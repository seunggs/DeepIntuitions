{
 "metadata": {
  "language_info": {
   "codemirror_mode": {
    "name": "ipython",
    "version": 3
   },
   "file_extension": ".py",
   "mimetype": "text/x-python",
   "name": "python",
   "nbconvert_exporter": "python",
   "pygments_lexer": "ipython3",
   "version": "3.8.10"
  },
  "orig_nbformat": 2,
  "kernelspec": {
   "name": "python3810jvsc74a57bd047ff15bef73b6154282c5c385e8f3ee35c3a17e4b084b9840bc5d5f0d8582823",
   "display_name": "Python 3.8.10 64-bit ('deepintuitions': conda)"
  },
  "metadata": {
   "interpreter": {
    "hash": "47ff15bef73b6154282c5c385e8f3ee35c3a17e4b084b9840bc5d5f0d8582823"
   }
  }
 },
 "nbformat": 4,
 "nbformat_minor": 2,
 "cells": [
  {
   "cell_type": "code",
   "execution_count": 130,
   "metadata": {},
   "outputs": [
    {
     "output_type": "execute_result",
     "data": {
      "text/plain": [
       "'\\nDataset\\nBuild a model\\nDefine loss_func & optimizer \\nDefine trainer (model produces prediciton -> compute the loss (label - pred) -> backprop)\\nDefine test (on validation dataset for now)\\nRun trainer and test\\n'"
      ]
     },
     "metadata": {},
     "execution_count": 130
    }
   ],
   "source": [
    "'''\n",
    "Dataset\n",
    "Build a model\n",
    "Define loss_func & optimizer \n",
    "Define trainer (model produces prediciton -> compute the loss (label - pred) -> backprop)\n",
    "Define test (on validation dataset for now)\n",
    "Run trainer and test\n",
    "'''"
   ]
  },
  {
   "cell_type": "code",
   "execution_count": 131,
   "metadata": {},
   "outputs": [],
   "source": [
    "import torch\n",
    "from torch import nn\n",
    "from torch.nn import functional as F\n",
    "from torch import optim\n",
    "from torch.utils.data import DataLoader, random_split\n",
    "from torchvision.datasets import MNIST\n",
    "from torchvision.transforms import ToTensor\n",
    "import pytorch_lightning as pl\n",
    "from pytorch_lightning.loggers import TensorBoardLogger\n",
    "import torchmetrics"
   ]
  },
  {
   "cell_type": "code",
   "execution_count": 132,
   "metadata": {},
   "outputs": [],
   "source": [
    "# Get the dataset and create dataloaders\n",
    "train_ds = MNIST(root='data', train=True, download=True, transform=ToTensor())\n",
    "valid_ds = MNIST(root='data', train=False, download=True, transform=ToTensor())\n",
    "\n",
    "bs = 64\n",
    "train_dl = DataLoader(train_ds, batch_size=bs, shuffle=True)\n",
    "valid_dl = DataLoader(valid_ds, batch_size=bs, shuffle=True)"
   ]
  },
  {
   "cell_type": "code",
   "execution_count": 134,
   "metadata": {},
   "outputs": [],
   "source": [
    "# Build the model\n",
    "# With Lightning, you need just 3 functions: forward, training_step, configure_optimizers\n",
    "class MNISTModel(pl.LightningModule): # pl.LightningModule is nn.Module - just with a few extra features\n",
    "    def __init__(self, lr=0.5):\n",
    "        super().__init__()\n",
    "        self.lr = lr\n",
    "        self.lin = nn.Linear(28 * 28, 10)\n",
    "        \n",
    "        # Metrics\n",
    "        self.train_accuracy = torchmetrics.Accuracy()\n",
    "        self.valid_accuracy = torchmetrics.Accuracy()\n",
    "    \n",
    "    def forward(self, xb): # it's exactly same as PyTorch!\n",
    "        xb = xb.flatten(1, -1) # (bs, 1, 28, 28) -> (bs, 784)\n",
    "        return self.lin(xb) # how do we know the shape of xb? See docs -> example\n",
    "\n",
    "    def training_step(self, batch, batch_idx):\n",
    "        loss = self.shared_step(batch, train=True)\n",
    "        return loss\n",
    "\n",
    "    def validation_step(self, batch, batch_idx):\n",
    "        loss = self.shared_step(batch, train=False)\n",
    "\n",
    "    # optionally add test_step (will only be called on trainer.test()):\n",
    "    # def test_step(self, batch, batch_idx):\n",
    "    #     loss = self.shared_step(batch)\n",
    "    #     return loss\n",
    "\n",
    "    def shared_step(self, batch, train):\n",
    "        xb, yb = batch\n",
    "        pred = self(xb)\n",
    "        loss = F.cross_entropy(pred, yb)\n",
    "\n",
    "        # Logging\n",
    "        if (train):\n",
    "            # must add softmax because pred doesn't add up to 1 (since we're doing that in cross_entropy)\n",
    "            self.train_accuracy(pred.softmax(dim=-1), yb)\n",
    "            self.log('train_accuracy', self.train_accuracy, on_step=True, on_epoch=False, prog_bar=True)\n",
    "        else:\n",
    "            self.valid_accuracy(pred.softmax(dim=-1), yb)\n",
    "            self.log('valid_accuracy', self.valid_accuracy, on_step=True, on_epoch=True, prog_bar=True)\n",
    "\n",
    "        return loss # just return the loss and the Lightning module will take care of backprop and update\n",
    "\n",
    "    def configure_optimizers(self):\n",
    "        return optim.SGD(self.parameters(), lr=self.lr)"
   ]
  },
  {
   "cell_type": "code",
   "execution_count": 133,
   "metadata": {},
   "outputs": [],
   "source": [
    "# Logger\n",
    "tb_logger = TensorBoardLogger('tb_logs')"
   ]
  },
  {
   "cell_type": "code",
   "execution_count": 135,
   "metadata": {},
   "outputs": [
    {
     "output_type": "stream",
     "name": "stderr",
     "text": [
      "GPU available: False, used: False\n",
      "TPU available: False, using: 0 TPU cores\n",
      "\n",
      "  | Name           | Type     | Params\n",
      "--------------------------------------------\n",
      "0 | lin            | Linear   | 7.9 K \n",
      "1 | train_accuracy | Accuracy | 0     \n",
      "2 | valid_accuracy | Accuracy | 0     \n",
      "--------------------------------------------\n",
      "7.9 K     Trainable params\n",
      "0         Non-trainable params\n",
      "7.9 K     Total params\n",
      "0.031     Total estimated model params size (MB)\n",
      "Epoch 0:   1%|          | 13/1095 [00:00<00:12, 86.18it/s, loss=1.3, v_num=0, valid_accuracy_epoch=0.0938, train_accuracy=0.812] /Users/seungchanlee/anaconda3/envs/deepintuitions/lib/python3.8/site-packages/pytorch_lightning/utilities/distributed.py:69: UserWarning: Your val_dataloader has `shuffle=True`, it is best practice to turn this off for val/test/predict dataloaders.\n",
      "  warnings.warn(*args, **kwargs)\n",
      "/Users/seungchanlee/anaconda3/envs/deepintuitions/lib/python3.8/site-packages/pytorch_lightning/utilities/distributed.py:69: UserWarning: The dataloader, val dataloader 0, does not have many workers which may be a bottleneck. Consider increasing the value of the `num_workers` argument` (try 12 which is the number of cpus on this machine) in the `DataLoader` init to improve performance.\n",
      "  warnings.warn(*args, **kwargs)\n",
      "/Users/seungchanlee/anaconda3/envs/deepintuitions/lib/python3.8/site-packages/pytorch_lightning/utilities/distributed.py:69: UserWarning: The dataloader, train dataloader, does not have many workers which may be a bottleneck. Consider increasing the value of the `num_workers` argument` (try 12 which is the number of cpus on this machine) in the `DataLoader` init to improve performance.\n",
      "  warnings.warn(*args, **kwargs)\n",
      "Epoch 0:  86%|████████▌ | 938/1095 [00:10<00:01, 85.60it/s, loss=0.286, v_num=0, valid_accuracy_epoch=0.0938, train_accuracy=0.906]\n",
      "Validating: 0it [00:00, ?it/s]\u001b[A\n",
      "Epoch 0:  86%|████████▋ | 946/1095 [00:11<00:01, 85.74it/s, loss=0.286, v_num=0, valid_accuracy_epoch=0.0938, train_accuracy=0.906]\n",
      "Epoch 0:  87%|████████▋ | 958/1095 [00:11<00:01, 85.96it/s, loss=0.286, v_num=0, valid_accuracy_epoch=0.0938, train_accuracy=0.906]\n",
      "Epoch 0:  89%|████████▉ | 974/1095 [00:11<00:01, 86.59it/s, loss=0.286, v_num=0, valid_accuracy_epoch=0.0938, train_accuracy=0.906]\n",
      "Epoch 0:  90%|█████████ | 990/1095 [00:11<00:01, 87.21it/s, loss=0.286, v_num=0, valid_accuracy_epoch=0.0938, train_accuracy=0.906]\n",
      "Epoch 0:  92%|█████████▏| 1007/1095 [00:11<00:01, 87.93it/s, loss=0.286, v_num=0, valid_accuracy_epoch=0.0938, train_accuracy=0.906]\n",
      "Epoch 0:  94%|█████████▎| 1024/1095 [00:11<00:00, 88.64it/s, loss=0.286, v_num=0, valid_accuracy_epoch=0.0938, train_accuracy=0.906]\n",
      "Epoch 0:  95%|█████████▌| 1041/1095 [00:11<00:00, 89.31it/s, loss=0.286, v_num=0, valid_accuracy_epoch=0.0938, train_accuracy=0.906]\n",
      "Epoch 0:  97%|█████████▋| 1058/1095 [00:11<00:00, 89.95it/s, loss=0.286, v_num=0, valid_accuracy_epoch=0.0938, train_accuracy=0.906]\n",
      "Epoch 0:  98%|█████████▊| 1075/1095 [00:11<00:00, 90.45it/s, loss=0.286, v_num=0, valid_accuracy_epoch=0.0938, train_accuracy=0.906]\n",
      "Epoch 0: 100%|██████████| 1095/1095 [00:12<00:00, 91.11it/s, loss=0.286, v_num=0, valid_accuracy_epoch=0.911, train_accuracy=0.938, valid_accuracy_step=1.000]\n",
      "Epoch 1:  86%|████████▌ | 938/1095 [00:10<00:01, 93.17it/s, loss=0.285, v_num=0, valid_accuracy_epoch=0.911, train_accuracy=0.922, valid_accuracy_step=1.000]\n",
      "Validating: 0it [00:00, ?it/s]\u001b[A\n",
      "Validating:   0%|          | 0/157 [00:00<?, ?it/s]\u001b[A\n",
      "Epoch 1:  87%|████████▋ | 952/1095 [00:10<00:01, 93.38it/s, loss=0.285, v_num=0, valid_accuracy_epoch=0.911, train_accuracy=0.922, valid_accuracy_step=1.000]\n",
      "Epoch 1:  88%|████████▊ | 969/1095 [00:10<00:01, 93.94it/s, loss=0.285, v_num=0, valid_accuracy_epoch=0.911, train_accuracy=0.922, valid_accuracy_step=1.000]\n",
      "Epoch 1:  90%|█████████ | 986/1095 [00:10<00:01, 94.55it/s, loss=0.285, v_num=0, valid_accuracy_epoch=0.911, train_accuracy=0.922, valid_accuracy_step=1.000]\n",
      "Epoch 1:  92%|█████████▏| 1003/1095 [00:10<00:00, 95.10it/s, loss=0.285, v_num=0, valid_accuracy_epoch=0.911, train_accuracy=0.922, valid_accuracy_step=1.000]\n",
      "Epoch 1:  93%|█████████▎| 1020/1095 [00:10<00:00, 95.65it/s, loss=0.285, v_num=0, valid_accuracy_epoch=0.911, train_accuracy=0.922, valid_accuracy_step=1.000]\n",
      "Epoch 1:  95%|█████████▍| 1037/1095 [00:10<00:00, 96.24it/s, loss=0.285, v_num=0, valid_accuracy_epoch=0.911, train_accuracy=0.922, valid_accuracy_step=1.000]\n",
      "Epoch 1:  96%|█████████▋| 1054/1095 [00:10<00:00, 96.52it/s, loss=0.285, v_num=0, valid_accuracy_epoch=0.911, train_accuracy=0.922, valid_accuracy_step=1.000]\n",
      "Validating:  75%|███████▍  | 117/157 [00:00<00:00, 135.55it/s]\u001b[A\n",
      "Epoch 1:  98%|█████████▊| 1071/1095 [00:11<00:00, 97.00it/s, loss=0.285, v_num=0, valid_accuracy_epoch=0.911, train_accuracy=0.922, valid_accuracy_step=1.000]\n",
      "Epoch 1: 100%|██████████| 1095/1095 [00:11<00:00, 97.32it/s, loss=0.285, v_num=0, valid_accuracy_epoch=0.906, train_accuracy=0.969, valid_accuracy_step=0.875]\n",
      "Epoch 1: 100%|██████████| 1095/1095 [00:11<00:00, 97.25it/s, loss=0.285, v_num=0, valid_accuracy_epoch=0.906, train_accuracy=0.969, valid_accuracy_step=0.875]\n"
     ]
    }
   ],
   "source": [
    "# Init model\n",
    "mnist_model = MNISTModel()\n",
    "\n",
    "# Init trainer\n",
    "trainer = pl.Trainer(max_epochs=2, logger=tb_logger) # there's a bunch of options including logging!\n",
    "\n",
    "# Train the model!\n",
    "trainer.fit(mnist_model, train_dl, valid_dl)\n",
    "\n",
    "# Optionally: run test\n",
    "# trainer.test()"
   ]
  }
 ]
}